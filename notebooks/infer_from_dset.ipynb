{
 "cells": [
  {
   "cell_type": "code",
   "execution_count": 1,
   "metadata": {},
   "outputs": [
    {
     "name": "stderr",
     "output_type": "stream",
     "text": [
      "2024-02-25 20:56:58.012550: E external/local_xla/xla/stream_executor/cuda/cuda_dnn.cc:9261] Unable to register cuDNN factory: Attempting to register factory for plugin cuDNN when one has already been registered\n",
      "2024-02-25 20:56:58.012585: E external/local_xla/xla/stream_executor/cuda/cuda_fft.cc:607] Unable to register cuFFT factory: Attempting to register factory for plugin cuFFT when one has already been registered\n",
      "2024-02-25 20:56:58.013783: E external/local_xla/xla/stream_executor/cuda/cuda_blas.cc:1515] Unable to register cuBLAS factory: Attempting to register factory for plugin cuBLAS when one has already been registered\n",
      "2024-02-25 20:57:00.098957: W tensorflow/compiler/tf2tensorrt/utils/py_utils.cc:38] TF-TRT Warning: Could not find TensorRT\n",
      "WARNING:absl:Could not import `jaxkdtree`.\n"
     ]
    }
   ],
   "source": [
    "%load_ext autoreload\n",
    "%autoreload 2\n",
    "\n",
    "from typing import List, Dict\n",
    "\n",
    "import sys\n",
    "import yaml\n",
    "sys.path.append('.')\n",
    "sys.path.append('..')\n",
    "\n",
    "import time\n",
    "from tqdm import tqdm\n",
    "from pathlib import Path\n",
    "\n",
    "import numpy as np\n",
    "import jax\n",
    "import jax.numpy as jnp\n",
    "import matplotlib as mpl\n",
    "import matplotlib.pyplot as plt\n",
    "import datasets\n",
    "import eval\n",
    "from ml_collections.config_dict import ConfigDict\n",
    "\n",
    "import models.diffusion\n",
    "from models.diffusion_utils import generate\n",
    "from models.train_utils import create_input_iter\n",
    "from analysis_utils import envs\n",
    "\n",
    "%matplotlib inline\n",
    "plt.style.use('/mnt/home/tnguyen/default.mplstyle')"
   ]
  },
  {
   "cell_type": "code",
   "execution_count": 3,
   "metadata": {},
   "outputs": [],
   "source": [
    "model_name = 'wdm/floral-wildflower-72'\n",
    "rng = jax.random.PRNGKey(42)\n",
    "steps = 500\n",
    "batch_size = 128\n",
    "num_particles = 100\n",
    "num_repeats = 1\n",
    "dataset_root = None\n",
    "dataset_name = None"
   ]
  },
  {
   "cell_type": "code",
   "execution_count": 4,
   "metadata": {},
   "outputs": [
    {
     "name": "stderr",
     "output_type": "stream",
     "text": [
      "WARNING:absl:The transformations API will eventually be replaced by an upgraded design. The current API will not be removed until this point, but it will no longer be actively worked on.\n"
     ]
    }
   ],
   "source": [
    "# load the config\n",
    "path_to_model = envs.DEFAULT_LOGGING_DIR / model_name\n",
    "with open(path_to_model / \"config.yaml\", \"r\") as file:\n",
    "    config = yaml.safe_load(file)\n",
    "config = ConfigDict(config)\n",
    "\n",
    "if dataset_root is None:\n",
    "    dataset_root = config.data.dataset_root\n",
    "if dataset_name is None:\n",
    "    dataset_name = config.data.dataset_name\n",
    "\n",
    "# read in the dataset\n",
    "x, mask, conditioning, norm_dict = datasets.get_nbody_data(\n",
    "    dataset_root,\n",
    "    dataset_name,\n",
    "    config.data.n_features,\n",
    "    config.data.n_particles,\n",
    "    conditioning_parameters=config.data.conditioning_parameters,\n",
    ")\n",
    "\n",
    "# unnormalized xb\n",
    "x = x * norm_dict['std'] + norm_dict['mean']\n",
    "\n",
    "# load the model\n",
    "vdm, params = models.diffusion.VariationalDiffusionModel.from_path_to_model(\n",
    "    path_to_model=path_to_model, norm_dict=norm_dict)"
   ]
  },
  {
   "cell_type": "code",
   "execution_count": 5,
   "metadata": {},
   "outputs": [],
   "source": [
    "# iterate over the dataset and generate samples\n",
    "truth_samples = []\n",
    "gen_samples = []\n",
    "gen_cond = []\n",
    "gen_mask = []\n",
    "\n",
    "dset = datasets.make_dataloader(\n",
    "    x, conditioning, mask, batch_size=batch_size, shuffle=False, repeat=False)\n",
    "dset = create_input_iter(dset)"
   ]
  },
  {
   "cell_type": "code",
   "execution_count": 11,
   "metadata": {},
   "outputs": [
    {
     "name": "stderr",
     "output_type": "stream",
     "text": [
      "2024-02-25 16:55:57.480874: W tensorflow/core/kernels/data/cache_dataset_ops.cc:858] The calling iterator did not fully read the dataset being cached. In order to avoid unexpected truncation of the dataset, the partially cached contents of the dataset  will be discarded. This can happen if you have an input pipeline similar to `dataset.cache().take(k).repeat()`. You should use `dataset.take(k).cache().repeat()` instead.\n",
      "5it [27:22, 328.59s/it]\n"
     ]
    },
    {
     "ename": "KeyboardInterrupt",
     "evalue": "",
     "output_type": "error",
     "traceback": [
      "\u001b[0;31m---------------------------------------------------------------------------\u001b[0m",
      "\u001b[0;31mKeyboardInterrupt\u001b[0m                         Traceback (most recent call last)",
      "Cell \u001b[0;32mIn[11], line 18\u001b[0m\n\u001b[1;32m     14\u001b[0m cond_batch \u001b[39m=\u001b[39m jnp\u001b[39m.\u001b[39mrepeat(cond_batch[\u001b[39m0\u001b[39m], num_repeats, axis\u001b[39m=\u001b[39m\u001b[39m0\u001b[39m)\n\u001b[1;32m     15\u001b[0m mask_batch \u001b[39m=\u001b[39m jnp\u001b[39m.\u001b[39mrepeat(mask_batch[\u001b[39m0\u001b[39m], num_repeats, axis\u001b[39m=\u001b[39m\u001b[39m0\u001b[39m)\n\u001b[1;32m     17\u001b[0m gen_samples\u001b[39m.\u001b[39mappend(\n\u001b[0;32m---> 18\u001b[0m     \u001b[39meval\u001b[39;49m\u001b[39m.\u001b[39;49mgenerate_samples(\n\u001b[1;32m     19\u001b[0m         vdm\u001b[39m=\u001b[39;49mvdm,\n\u001b[1;32m     20\u001b[0m         params\u001b[39m=\u001b[39;49mparams,\n\u001b[1;32m     21\u001b[0m         rng\u001b[39m=\u001b[39;49mrng,\n\u001b[1;32m     22\u001b[0m         n_samples\u001b[39m=\u001b[39;49m\u001b[39mlen\u001b[39;49m(cond_batch),\n\u001b[1;32m     23\u001b[0m         n_particles\u001b[39m=\u001b[39;49mnum_particles,\n\u001b[1;32m     24\u001b[0m         conditioning\u001b[39m=\u001b[39;49mcond_batch,\n\u001b[1;32m     25\u001b[0m         mask\u001b[39m=\u001b[39;49mmask_batch,\n\u001b[1;32m     26\u001b[0m         steps\u001b[39m=\u001b[39;49msteps,\n\u001b[1;32m     27\u001b[0m         norm_dict\u001b[39m=\u001b[39;49mnorm_dict,\n\u001b[1;32m     28\u001b[0m         boxsize\u001b[39m=\u001b[39;49m\u001b[39m1\u001b[39;49m,  \u001b[39m# doesn't matter\u001b[39;49;00m\n\u001b[1;32m     29\u001b[0m     )\n\u001b[1;32m     30\u001b[0m )\n\u001b[1;32m     31\u001b[0m gen_cond\u001b[39m.\u001b[39mappend(cond_batch)\n\u001b[1;32m     32\u001b[0m gen_mask\u001b[39m.\u001b[39mappend(mask_batch)\n",
      "File \u001b[0;32m~/projects/point-cloud-galaxy-diffusion/notebooks/../eval.py:631\u001b[0m, in \u001b[0;36mgenerate_samples\u001b[0;34m(vdm, params, rng, n_samples, n_particles, conditioning, mask, steps, norm_dict, boxsize)\u001b[0m\n\u001b[1;32m    619\u001b[0m \u001b[39mdef\u001b[39;00m \u001b[39mgenerate_samples\u001b[39m(\n\u001b[1;32m    620\u001b[0m     vdm,\n\u001b[1;32m    621\u001b[0m     params,\n\u001b[0;32m   (...)\u001b[0m\n\u001b[1;32m    629\u001b[0m     boxsize,\n\u001b[1;32m    630\u001b[0m ):\n\u001b[0;32m--> 631\u001b[0m     generated_samples \u001b[39m=\u001b[39m generate(\n\u001b[1;32m    632\u001b[0m         vdm,\n\u001b[1;32m    633\u001b[0m         params,\n\u001b[1;32m    634\u001b[0m         rng,\n\u001b[1;32m    635\u001b[0m         (n_samples, n_particles),\n\u001b[1;32m    636\u001b[0m         conditioning\u001b[39m=\u001b[39;49mconditioning,\n\u001b[1;32m    637\u001b[0m         mask\u001b[39m=\u001b[39;49mmask,\n\u001b[1;32m    638\u001b[0m         steps\u001b[39m=\u001b[39;49msteps,\n\u001b[1;32m    639\u001b[0m     )\n\u001b[1;32m    640\u001b[0m     generated_samples \u001b[39m=\u001b[39m generated_samples\u001b[39m.\u001b[39mmean()\n\u001b[1;32m    641\u001b[0m     generated_samples \u001b[39m=\u001b[39m generated_samples \u001b[39m*\u001b[39m norm_dict[\u001b[39m\"\u001b[39m\u001b[39mstd\u001b[39m\u001b[39m\"\u001b[39m] \u001b[39m+\u001b[39m norm_dict[\u001b[39m\"\u001b[39m\u001b[39mmean\u001b[39m\u001b[39m\"\u001b[39m]\n",
      "File \u001b[0;32m~/projects/point-cloud-galaxy-diffusion/notebooks/../models/diffusion_utils.py:161\u001b[0m, in \u001b[0;36mgenerate\u001b[0;34m(vdm, params, rng, shape, conditioning, mask, steps)\u001b[0m\n\u001b[1;32m    158\u001b[0m \u001b[39mdef\u001b[39;00m \u001b[39mbody_fn\u001b[39m(i, z_t):\n\u001b[1;32m    159\u001b[0m     \u001b[39mreturn\u001b[39;00m vdm\u001b[39m.\u001b[39mapply(params, rng, i, timesteps, z_t, conditioning, mask\u001b[39m=\u001b[39mmask, method\u001b[39m=\u001b[39mvdm\u001b[39m.\u001b[39msample_step)\n\u001b[0;32m--> 161\u001b[0m z0 \u001b[39m=\u001b[39m jax\u001b[39m.\u001b[39;49mlax\u001b[39m.\u001b[39;49mfori_loop(lower\u001b[39m=\u001b[39;49m\u001b[39m0\u001b[39;49m, upper\u001b[39m=\u001b[39;49mtimesteps, body_fun\u001b[39m=\u001b[39;49mbody_fn, init_val\u001b[39m=\u001b[39;49mzt)\n\u001b[1;32m    163\u001b[0m g0 \u001b[39m=\u001b[39m vdm\u001b[39m.\u001b[39mapply(params, \u001b[39m0.0\u001b[39m, method\u001b[39m=\u001b[39mvdm\u001b[39m.\u001b[39mgammat)\n\u001b[1;32m    164\u001b[0m var0 \u001b[39m=\u001b[39m sigma2(g0)\n",
      "    \u001b[0;31m[... skipping hidden 1 frame]\u001b[0m\n",
      "File \u001b[0;32m~/miniconda3/envs/galaxy-diffusion-release/lib/python3.10/site-packages/jax/_src/lax/control_flow/loops.py:1964\u001b[0m, in \u001b[0;36mfori_loop\u001b[0;34m(lower, upper, body_fun, init_val, unroll)\u001b[0m\n\u001b[1;32m   1960\u001b[0m   \u001b[39mif\u001b[39;00m config\u001b[39m.\u001b[39mdisable_jit\u001b[39m.\u001b[39mvalue \u001b[39mand\u001b[39;00m upper_ \u001b[39m==\u001b[39m lower_:\n\u001b[1;32m   1961\u001b[0m     \u001b[39m# non-jit implementation of scan does not support length=0\u001b[39;00m\n\u001b[1;32m   1962\u001b[0m     \u001b[39mreturn\u001b[39;00m init_val\n\u001b[0;32m-> 1964\u001b[0m   (_, result), _ \u001b[39m=\u001b[39m scan(_fori_scan_body_fun(body_fun), (lower_, init_val),\n\u001b[1;32m   1965\u001b[0m                         \u001b[39mNone\u001b[39;49;00m, length\u001b[39m=\u001b[39;49mupper_ \u001b[39m-\u001b[39;49m lower_, unroll\u001b[39m=\u001b[39;49munroll)\n\u001b[1;32m   1966\u001b[0m   \u001b[39mreturn\u001b[39;00m result\n\u001b[1;32m   1967\u001b[0m \u001b[39mif\u001b[39;00m unroll \u001b[39mis\u001b[39;00m \u001b[39mnot\u001b[39;00m \u001b[39mNone\u001b[39;00m:\n",
      "    \u001b[0;31m[... skipping hidden 1 frame]\u001b[0m\n",
      "File \u001b[0;32m~/miniconda3/envs/galaxy-diffusion-release/lib/python3.10/site-packages/jax/_src/lax/control_flow/loops.py:273\u001b[0m, in \u001b[0;36mscan\u001b[0;34m(f, init, xs, length, reverse, unroll)\u001b[0m\n\u001b[1;32m    271\u001b[0m \u001b[39mif\u001b[39;00m \u001b[39misinstance\u001b[39m(unroll, \u001b[39mbool\u001b[39m):\n\u001b[1;32m    272\u001b[0m   unroll \u001b[39m=\u001b[39m length \u001b[39mif\u001b[39;00m unroll \u001b[39melse\u001b[39;00m \u001b[39m1\u001b[39m\n\u001b[0;32m--> 273\u001b[0m out \u001b[39m=\u001b[39m scan_p\u001b[39m.\u001b[39;49mbind(\u001b[39m*\u001b[39;49mconsts, \u001b[39m*\u001b[39;49min_flat,\n\u001b[1;32m    274\u001b[0m                   reverse\u001b[39m=\u001b[39;49mreverse, length\u001b[39m=\u001b[39;49mlength, jaxpr\u001b[39m=\u001b[39;49mjaxpr,\n\u001b[1;32m    275\u001b[0m                   num_consts\u001b[39m=\u001b[39;49m\u001b[39mlen\u001b[39;49m(consts), num_carry\u001b[39m=\u001b[39;49m\u001b[39mlen\u001b[39;49m(init_flat),\n\u001b[1;32m    276\u001b[0m                   linear\u001b[39m=\u001b[39;49m(\u001b[39mFalse\u001b[39;49;00m,) \u001b[39m*\u001b[39;49m (\u001b[39mlen\u001b[39;49m(consts) \u001b[39m+\u001b[39;49m \u001b[39mlen\u001b[39;49m(in_flat)),\n\u001b[1;32m    277\u001b[0m                   unroll\u001b[39m=\u001b[39;49munroll)\n\u001b[1;32m    278\u001b[0m \u001b[39mreturn\u001b[39;00m tree_unflatten(out_tree, out)\n",
      "File \u001b[0;32m~/miniconda3/envs/galaxy-diffusion-release/lib/python3.10/site-packages/jax/_src/lax/control_flow/loops.py:1130\u001b[0m, in \u001b[0;36mscan_bind\u001b[0;34m(*args, **params)\u001b[0m\n\u001b[1;32m   1128\u001b[0m   _scan_typecheck(\u001b[39mTrue\u001b[39;00m, \u001b[39m*\u001b[39min_atoms, \u001b[39m*\u001b[39m\u001b[39m*\u001b[39mparams)\n\u001b[1;32m   1129\u001b[0m   core\u001b[39m.\u001b[39mcheck_jaxpr(params[\u001b[39m'\u001b[39m\u001b[39mjaxpr\u001b[39m\u001b[39m'\u001b[39m]\u001b[39m.\u001b[39mjaxpr)\n\u001b[0;32m-> 1130\u001b[0m \u001b[39mreturn\u001b[39;00m core\u001b[39m.\u001b[39;49mAxisPrimitive\u001b[39m.\u001b[39;49mbind(scan_p, \u001b[39m*\u001b[39;49margs, \u001b[39m*\u001b[39;49m\u001b[39m*\u001b[39;49mparams)\n",
      "File \u001b[0;32m~/miniconda3/envs/galaxy-diffusion-release/lib/python3.10/site-packages/jax/_src/core.py:2740\u001b[0m, in \u001b[0;36mAxisPrimitive.bind\u001b[0;34m(self, *args, **params)\u001b[0m\n\u001b[1;32m   2736\u001b[0m axis_main \u001b[39m=\u001b[39m \u001b[39mmax\u001b[39m((axis_frame(a)\u001b[39m.\u001b[39mmain_trace \u001b[39mfor\u001b[39;00m a \u001b[39min\u001b[39;00m used_axis_names(\u001b[39mself\u001b[39m, params)),\n\u001b[1;32m   2737\u001b[0m                 default\u001b[39m=\u001b[39m\u001b[39mNone\u001b[39;00m, key\u001b[39m=\u001b[39m\u001b[39mlambda\u001b[39;00m t: \u001b[39mgetattr\u001b[39m(t, \u001b[39m'\u001b[39m\u001b[39mlevel\u001b[39m\u001b[39m'\u001b[39m, \u001b[39m-\u001b[39m\u001b[39m1\u001b[39m))\n\u001b[1;32m   2738\u001b[0m top_trace \u001b[39m=\u001b[39m (top_trace \u001b[39mif\u001b[39;00m \u001b[39mnot\u001b[39;00m axis_main \u001b[39mor\u001b[39;00m axis_main\u001b[39m.\u001b[39mlevel \u001b[39m<\u001b[39m top_trace\u001b[39m.\u001b[39mlevel\n\u001b[1;32m   2739\u001b[0m              \u001b[39melse\u001b[39;00m axis_main\u001b[39m.\u001b[39mwith_cur_sublevel())\n\u001b[0;32m-> 2740\u001b[0m \u001b[39mreturn\u001b[39;00m \u001b[39mself\u001b[39;49m\u001b[39m.\u001b[39;49mbind_with_trace(top_trace, args, params)\n",
      "File \u001b[0;32m~/miniconda3/envs/galaxy-diffusion-release/lib/python3.10/site-packages/jax/_src/core.py:447\u001b[0m, in \u001b[0;36mPrimitive.bind_with_trace\u001b[0;34m(self, trace, args, params)\u001b[0m\n\u001b[1;32m    446\u001b[0m \u001b[39mdef\u001b[39;00m \u001b[39mbind_with_trace\u001b[39m(\u001b[39mself\u001b[39m, trace, args, params):\n\u001b[0;32m--> 447\u001b[0m   out \u001b[39m=\u001b[39m trace\u001b[39m.\u001b[39;49mprocess_primitive(\u001b[39mself\u001b[39;49m, \u001b[39mmap\u001b[39;49m(trace\u001b[39m.\u001b[39;49mfull_raise, args), params)\n\u001b[1;32m    448\u001b[0m   \u001b[39mreturn\u001b[39;00m \u001b[39mmap\u001b[39m(full_lower, out) \u001b[39mif\u001b[39;00m \u001b[39mself\u001b[39m\u001b[39m.\u001b[39mmultiple_results \u001b[39melse\u001b[39;00m full_lower(out)\n",
      "File \u001b[0;32m~/miniconda3/envs/galaxy-diffusion-release/lib/python3.10/site-packages/jax/_src/core.py:935\u001b[0m, in \u001b[0;36mEvalTrace.process_primitive\u001b[0;34m(self, primitive, tracers, params)\u001b[0m\n\u001b[1;32m    934\u001b[0m \u001b[39mdef\u001b[39;00m \u001b[39mprocess_primitive\u001b[39m(\u001b[39mself\u001b[39m, primitive, tracers, params):\n\u001b[0;32m--> 935\u001b[0m   \u001b[39mreturn\u001b[39;00m primitive\u001b[39m.\u001b[39;49mimpl(\u001b[39m*\u001b[39;49mtracers, \u001b[39m*\u001b[39;49m\u001b[39m*\u001b[39;49mparams)\n",
      "File \u001b[0;32m~/miniconda3/envs/galaxy-diffusion-release/lib/python3.10/site-packages/jax/_src/dispatch.py:87\u001b[0m, in \u001b[0;36mapply_primitive\u001b[0;34m(prim, *args, **params)\u001b[0m\n\u001b[1;32m     85\u001b[0m prev \u001b[39m=\u001b[39m lib\u001b[39m.\u001b[39mjax_jit\u001b[39m.\u001b[39mswap_thread_local_state_disable_jit(\u001b[39mFalse\u001b[39;00m)\n\u001b[1;32m     86\u001b[0m \u001b[39mtry\u001b[39;00m:\n\u001b[0;32m---> 87\u001b[0m   outs \u001b[39m=\u001b[39m fun(\u001b[39m*\u001b[39;49margs)\n\u001b[1;32m     88\u001b[0m \u001b[39mfinally\u001b[39;00m:\n\u001b[1;32m     89\u001b[0m   lib\u001b[39m.\u001b[39mjax_jit\u001b[39m.\u001b[39mswap_thread_local_state_disable_jit(prev)\n",
      "    \u001b[0;31m[... skipping hidden 1 frame]\u001b[0m\n",
      "File \u001b[0;32m~/miniconda3/envs/galaxy-diffusion-release/lib/python3.10/site-packages/jax/_src/pjit.py:257\u001b[0m, in \u001b[0;36m_cpp_pjit.<locals>.cache_miss\u001b[0;34m(*args, **kwargs)\u001b[0m\n\u001b[1;32m    255\u001b[0m \u001b[39m@api_boundary\u001b[39m\n\u001b[1;32m    256\u001b[0m \u001b[39mdef\u001b[39;00m \u001b[39mcache_miss\u001b[39m(\u001b[39m*\u001b[39margs, \u001b[39m*\u001b[39m\u001b[39m*\u001b[39mkwargs):\n\u001b[0;32m--> 257\u001b[0m   outs, out_flat, out_tree, args_flat, jaxpr \u001b[39m=\u001b[39m _python_pjit_helper(\n\u001b[1;32m    258\u001b[0m       fun, infer_params_fn, \u001b[39m*\u001b[39;49margs, \u001b[39m*\u001b[39;49m\u001b[39m*\u001b[39;49mkwargs)\n\u001b[1;32m    259\u001b[0m   executable \u001b[39m=\u001b[39m _read_most_recent_pjit_call_executable(jaxpr)\n\u001b[1;32m    260\u001b[0m   fastpath_data \u001b[39m=\u001b[39m _get_fastpath_data(executable, out_tree, args_flat, out_flat)\n",
      "File \u001b[0;32m~/miniconda3/envs/galaxy-diffusion-release/lib/python3.10/site-packages/jax/_src/pjit.py:168\u001b[0m, in \u001b[0;36m_python_pjit_helper\u001b[0;34m(fun, infer_params_fn, *args, **kwargs)\u001b[0m\n\u001b[1;32m    166\u001b[0m   dispatch\u001b[39m.\u001b[39mcheck_arg(arg)\n\u001b[1;32m    167\u001b[0m \u001b[39mtry\u001b[39;00m:\n\u001b[0;32m--> 168\u001b[0m   out_flat \u001b[39m=\u001b[39m pjit_p\u001b[39m.\u001b[39;49mbind(\u001b[39m*\u001b[39;49margs_flat, \u001b[39m*\u001b[39;49m\u001b[39m*\u001b[39;49mparams)\n\u001b[1;32m    169\u001b[0m \u001b[39mexcept\u001b[39;00m pxla\u001b[39m.\u001b[39mDeviceAssignmentMismatchError \u001b[39mas\u001b[39;00m e:\n\u001b[1;32m    170\u001b[0m   fails, \u001b[39m=\u001b[39m e\u001b[39m.\u001b[39margs\n",
      "File \u001b[0;32m~/miniconda3/envs/galaxy-diffusion-release/lib/python3.10/site-packages/jax/_src/core.py:2740\u001b[0m, in \u001b[0;36mAxisPrimitive.bind\u001b[0;34m(self, *args, **params)\u001b[0m\n\u001b[1;32m   2736\u001b[0m axis_main \u001b[39m=\u001b[39m \u001b[39mmax\u001b[39m((axis_frame(a)\u001b[39m.\u001b[39mmain_trace \u001b[39mfor\u001b[39;00m a \u001b[39min\u001b[39;00m used_axis_names(\u001b[39mself\u001b[39m, params)),\n\u001b[1;32m   2737\u001b[0m                 default\u001b[39m=\u001b[39m\u001b[39mNone\u001b[39;00m, key\u001b[39m=\u001b[39m\u001b[39mlambda\u001b[39;00m t: \u001b[39mgetattr\u001b[39m(t, \u001b[39m'\u001b[39m\u001b[39mlevel\u001b[39m\u001b[39m'\u001b[39m, \u001b[39m-\u001b[39m\u001b[39m1\u001b[39m))\n\u001b[1;32m   2738\u001b[0m top_trace \u001b[39m=\u001b[39m (top_trace \u001b[39mif\u001b[39;00m \u001b[39mnot\u001b[39;00m axis_main \u001b[39mor\u001b[39;00m axis_main\u001b[39m.\u001b[39mlevel \u001b[39m<\u001b[39m top_trace\u001b[39m.\u001b[39mlevel\n\u001b[1;32m   2739\u001b[0m              \u001b[39melse\u001b[39;00m axis_main\u001b[39m.\u001b[39mwith_cur_sublevel())\n\u001b[0;32m-> 2740\u001b[0m \u001b[39mreturn\u001b[39;00m \u001b[39mself\u001b[39;49m\u001b[39m.\u001b[39;49mbind_with_trace(top_trace, args, params)\n",
      "File \u001b[0;32m~/miniconda3/envs/galaxy-diffusion-release/lib/python3.10/site-packages/jax/_src/core.py:447\u001b[0m, in \u001b[0;36mPrimitive.bind_with_trace\u001b[0;34m(self, trace, args, params)\u001b[0m\n\u001b[1;32m    446\u001b[0m \u001b[39mdef\u001b[39;00m \u001b[39mbind_with_trace\u001b[39m(\u001b[39mself\u001b[39m, trace, args, params):\n\u001b[0;32m--> 447\u001b[0m   out \u001b[39m=\u001b[39m trace\u001b[39m.\u001b[39;49mprocess_primitive(\u001b[39mself\u001b[39;49m, \u001b[39mmap\u001b[39;49m(trace\u001b[39m.\u001b[39;49mfull_raise, args), params)\n\u001b[1;32m    448\u001b[0m   \u001b[39mreturn\u001b[39;00m \u001b[39mmap\u001b[39m(full_lower, out) \u001b[39mif\u001b[39;00m \u001b[39mself\u001b[39m\u001b[39m.\u001b[39mmultiple_results \u001b[39melse\u001b[39;00m full_lower(out)\n",
      "File \u001b[0;32m~/miniconda3/envs/galaxy-diffusion-release/lib/python3.10/site-packages/jax/_src/core.py:935\u001b[0m, in \u001b[0;36mEvalTrace.process_primitive\u001b[0;34m(self, primitive, tracers, params)\u001b[0m\n\u001b[1;32m    934\u001b[0m \u001b[39mdef\u001b[39;00m \u001b[39mprocess_primitive\u001b[39m(\u001b[39mself\u001b[39m, primitive, tracers, params):\n\u001b[0;32m--> 935\u001b[0m   \u001b[39mreturn\u001b[39;00m primitive\u001b[39m.\u001b[39;49mimpl(\u001b[39m*\u001b[39;49mtracers, \u001b[39m*\u001b[39;49m\u001b[39m*\u001b[39;49mparams)\n",
      "File \u001b[0;32m~/miniconda3/envs/galaxy-diffusion-release/lib/python3.10/site-packages/jax/_src/pjit.py:1245\u001b[0m, in \u001b[0;36m_pjit_call_impl\u001b[0;34m(jaxpr, in_shardings, out_shardings, resource_env, donated_invars, name, keep_unused, inline, *args)\u001b[0m\n\u001b[1;32m   1242\u001b[0m donated_argnums \u001b[39m=\u001b[39m [i \u001b[39mfor\u001b[39;00m i, d \u001b[39min\u001b[39;00m \u001b[39menumerate\u001b[39m(donated_invars) \u001b[39mif\u001b[39;00m d]\n\u001b[1;32m   1243\u001b[0m has_explicit_sharding \u001b[39m=\u001b[39m _pjit_explicit_sharding(\n\u001b[1;32m   1244\u001b[0m     in_shardings, out_shardings, \u001b[39mNone\u001b[39;00m, \u001b[39mNone\u001b[39;00m)\n\u001b[0;32m-> 1245\u001b[0m \u001b[39mreturn\u001b[39;00m xc\u001b[39m.\u001b[39;49m_xla\u001b[39m.\u001b[39;49mpjit(name, f, call_impl_cache_miss, [], [], donated_argnums,\n\u001b[1;32m   1246\u001b[0m                     tree_util\u001b[39m.\u001b[39;49mdispatch_registry,\n\u001b[1;32m   1247\u001b[0m                     _get_cpp_global_cache(has_explicit_sharding))(\u001b[39m*\u001b[39;49margs)\n",
      "File \u001b[0;32m~/miniconda3/envs/galaxy-diffusion-release/lib/python3.10/site-packages/jax/_src/pjit.py:1229\u001b[0m, in \u001b[0;36m_pjit_call_impl.<locals>.call_impl_cache_miss\u001b[0;34m(*args_, **kwargs_)\u001b[0m\n\u001b[1;32m   1228\u001b[0m \u001b[39mdef\u001b[39;00m \u001b[39mcall_impl_cache_miss\u001b[39m(\u001b[39m*\u001b[39margs_, \u001b[39m*\u001b[39m\u001b[39m*\u001b[39mkwargs_):\n\u001b[0;32m-> 1229\u001b[0m   out_flat, compiled \u001b[39m=\u001b[39m _pjit_call_impl_python(\n\u001b[1;32m   1230\u001b[0m       \u001b[39m*\u001b[39;49margs, jaxpr\u001b[39m=\u001b[39;49mjaxpr, in_shardings\u001b[39m=\u001b[39;49min_shardings,\n\u001b[1;32m   1231\u001b[0m       out_shardings\u001b[39m=\u001b[39;49mout_shardings, resource_env\u001b[39m=\u001b[39;49mresource_env,\n\u001b[1;32m   1232\u001b[0m       donated_invars\u001b[39m=\u001b[39;49mdonated_invars, name\u001b[39m=\u001b[39;49mname, keep_unused\u001b[39m=\u001b[39;49mkeep_unused,\n\u001b[1;32m   1233\u001b[0m       inline\u001b[39m=\u001b[39;49minline)\n\u001b[1;32m   1234\u001b[0m   fastpath_data \u001b[39m=\u001b[39m _get_fastpath_data(\n\u001b[1;32m   1235\u001b[0m       compiled, tree_structure(out_flat), args, out_flat)\n\u001b[1;32m   1236\u001b[0m   \u001b[39mreturn\u001b[39;00m out_flat, fastpath_data\n",
      "File \u001b[0;32m~/miniconda3/envs/galaxy-diffusion-release/lib/python3.10/site-packages/jax/_src/pjit.py:1185\u001b[0m, in \u001b[0;36m_pjit_call_impl_python\u001b[0;34m(jaxpr, in_shardings, out_shardings, resource_env, donated_invars, name, keep_unused, inline, *args)\u001b[0m\n\u001b[1;32m   1179\u001b[0m   distributed_debug_log((\u001b[39m\"\u001b[39m\u001b[39mRunning pjit\u001b[39m\u001b[39m'\u001b[39m\u001b[39md function\u001b[39m\u001b[39m\"\u001b[39m, name),\n\u001b[1;32m   1180\u001b[0m                         (\u001b[39m\"\u001b[39m\u001b[39min_shardings\u001b[39m\u001b[39m\"\u001b[39m, in_shardings),\n\u001b[1;32m   1181\u001b[0m                         (\u001b[39m\"\u001b[39m\u001b[39mout_shardings\u001b[39m\u001b[39m\"\u001b[39m, out_shardings),\n\u001b[1;32m   1182\u001b[0m                         (\u001b[39m\"\u001b[39m\u001b[39mabstract args\u001b[39m\u001b[39m\"\u001b[39m, \u001b[39mmap\u001b[39m(xla\u001b[39m.\u001b[39mabstractify, args)),\n\u001b[1;32m   1183\u001b[0m                         (\u001b[39m\"\u001b[39m\u001b[39mfingerprint\u001b[39m\u001b[39m\"\u001b[39m, fingerprint))\n\u001b[1;32m   1184\u001b[0m \u001b[39mtry\u001b[39;00m:\n\u001b[0;32m-> 1185\u001b[0m   \u001b[39mreturn\u001b[39;00m compiled\u001b[39m.\u001b[39;49munsafe_call(\u001b[39m*\u001b[39;49margs), compiled\n\u001b[1;32m   1186\u001b[0m \u001b[39mexcept\u001b[39;00m \u001b[39mFloatingPointError\u001b[39;00m \u001b[39mas\u001b[39;00m e:\n\u001b[1;32m   1187\u001b[0m   \u001b[39massert\u001b[39;00m config\u001b[39m.\u001b[39mdebug_nans\u001b[39m.\u001b[39mvalue \u001b[39mor\u001b[39;00m config\u001b[39m.\u001b[39mdebug_infs\u001b[39m.\u001b[39mvalue  \u001b[39m# compiled_fun can only raise in this case\u001b[39;00m\n",
      "File \u001b[0;32m~/miniconda3/envs/galaxy-diffusion-release/lib/python3.10/site-packages/jax/_src/profiler.py:336\u001b[0m, in \u001b[0;36mannotate_function.<locals>.wrapper\u001b[0;34m(*args, **kwargs)\u001b[0m\n\u001b[1;32m    333\u001b[0m \u001b[39m@wraps\u001b[39m(func)\n\u001b[1;32m    334\u001b[0m \u001b[39mdef\u001b[39;00m \u001b[39mwrapper\u001b[39m(\u001b[39m*\u001b[39margs, \u001b[39m*\u001b[39m\u001b[39m*\u001b[39mkwargs):\n\u001b[1;32m    335\u001b[0m   \u001b[39mwith\u001b[39;00m TraceAnnotation(name, \u001b[39m*\u001b[39m\u001b[39m*\u001b[39mdecorator_kwargs):\n\u001b[0;32m--> 336\u001b[0m     \u001b[39mreturn\u001b[39;00m func(\u001b[39m*\u001b[39;49margs, \u001b[39m*\u001b[39;49m\u001b[39m*\u001b[39;49mkwargs)\n\u001b[1;32m    337\u001b[0m   \u001b[39mreturn\u001b[39;00m wrapper\n",
      "File \u001b[0;32m~/miniconda3/envs/galaxy-diffusion-release/lib/python3.10/site-packages/jax/_src/interpreters/pxla.py:1159\u001b[0m, in \u001b[0;36mExecuteReplicated.__call__\u001b[0;34m(self, *args)\u001b[0m\n\u001b[1;32m   1157\u001b[0m   \u001b[39mself\u001b[39m\u001b[39m.\u001b[39m_handle_token_bufs(result_token_bufs, sharded_runtime_token)\n\u001b[1;32m   1158\u001b[0m \u001b[39melse\u001b[39;00m:\n\u001b[0;32m-> 1159\u001b[0m   results \u001b[39m=\u001b[39m \u001b[39mself\u001b[39;49m\u001b[39m.\u001b[39;49mxla_executable\u001b[39m.\u001b[39;49mexecute_sharded(input_bufs)\n\u001b[1;32m   1160\u001b[0m \u001b[39mif\u001b[39;00m dispatch\u001b[39m.\u001b[39mneeds_check_special():\n\u001b[1;32m   1161\u001b[0m   out_arrays \u001b[39m=\u001b[39m results\u001b[39m.\u001b[39mdisassemble_into_single_device_arrays()\n",
      "\u001b[0;31mKeyboardInterrupt\u001b[0m: "
     ]
    }
   ],
   "source": [
    "\n",
    "\n",
    "for batch in tqdm(dset):\n",
    "    x_batch, cond_batch, mask_batch = batch[0], batch[1], batch[2]\n",
    "    x_batch = jnp.repeat(x_batch[0], num_repeats, axis=0)\n",
    "    cond_batch = jnp.repeat(cond_batch[0], num_repeats, axis=0)\n",
    "    mask_batch = jnp.repeat(mask_batch[0], num_repeats, axis=0)\n",
    "\n",
    "    gen_samples.append(\n",
    "        eval.generate_samples(\n",
    "            vdm=vdm,\n",
    "            params=params,\n",
    "            rng=rng,\n",
    "            n_samples=len(cond_batch),\n",
    "            n_particles=num_particles,\n",
    "            conditioning=cond_batch,\n",
    "            mask=mask_batch,\n",
    "            steps=steps,\n",
    "            norm_dict=norm_dict,\n",
    "            boxsize=1,  # doesn't matter\n",
    "        )\n",
    "    )\n",
    "    gen_cond.append(cond_batch)\n",
    "    gen_mask.append(mask_batch)\n",
    "    truth_samples.append(x_batch)\n",
    "\n",
    "gen_samples = jnp.concatenate(gen_samples, axis=0)\n",
    "gen_cond = jnp.concatenate(gen_cond, axis=0)\n",
    "gen_mask = jnp.concatenate(gen_mask, axis=0)\n",
    "truth_samples = jnp.concatenate(truth_samples, axis=0)"
   ]
  },
  {
   "cell_type": "code",
   "execution_count": 12,
   "metadata": {},
   "outputs": [],
   "source": [
    "len(gen_cond)"
   ]
  },
  {
   "cell_type": "code",
   "execution_count": null,
   "metadata": {},
   "outputs": [],
   "source": [
    "# Save the samples\n",
    "out_path = envs.DEFAULT_OUTPUT_DIR / (model_name + '.npz')\n",
    "np.savez(\n",
    "    out_path, samples=gen_samples, cond=gen_cond, \n",
    "    mask=gen_mask, truth=truth_samples)"
   ]
  }
 ],
 "metadata": {
  "kernelspec": {
   "display_name": "galaxy-diffusion-release",
   "language": "python",
   "name": "python3"
  },
  "language_info": {
   "codemirror_mode": {
    "name": "ipython",
    "version": 3
   },
   "file_extension": ".py",
   "mimetype": "text/x-python",
   "name": "python",
   "nbconvert_exporter": "python",
   "pygments_lexer": "ipython3",
   "version": "3.10.9"
  },
  "orig_nbformat": 4
 },
 "nbformat": 4,
 "nbformat_minor": 2
}
